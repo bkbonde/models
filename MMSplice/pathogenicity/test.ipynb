{
 "cells": [
  {
   "cell_type": "code",
   "execution_count": 1,
   "metadata": {},
   "outputs": [],
   "source": [
    "%load_ext autoreload\n",
    "%autoreload 2"
   ]
  },
  {
   "cell_type": "code",
   "execution_count": 2,
   "metadata": {},
   "outputs": [
    {
     "name": "stderr",
     "output_type": "stream",
     "text": [
      "Using TensorFlow backend.\n",
      "/opt/modules/i12g/anaconda/3-5.0.1/envs/splicing/lib/python3.6/site-packages/keras/engine/saving.py:270: UserWarning: No training configuration found in save file: the model was *not* compiled. Compile it manually.\n",
      "  warnings.warn('No training configuration found in save file: '\n"
     ]
    }
   ],
   "source": [
    "from dataloader import SplicingVCFDataloader"
   ]
  },
  {
   "cell_type": "code",
   "execution_count": 3,
   "metadata": {},
   "outputs": [],
   "source": [
    "fasta = \"example_files/hg19.nochr.chr17.fa\"\n",
    "gtf = \"example_files/test.gtf\"\n",
    "vcf = \"example_files/test.vcf.gz\""
   ]
  },
  {
   "cell_type": "code",
   "execution_count": 4,
   "metadata": {},
   "outputs": [],
   "source": [
    "dl = SplicingVCFDataloader(gtf, \n",
    "                          fasta,\n",
    "                          vcf,\n",
    "#                           out_file=\"/tmp/test.pkl\",\n",
    "                           overhang=(100,100),\n",
    "                          split_seq=False)"
   ]
  },
  {
   "cell_type": "code",
   "execution_count": 5,
   "metadata": {},
   "outputs": [],
   "source": [
    "dliter = dl.batch_iter()"
   ]
  },
  {
   "cell_type": "code",
   "execution_count": 6,
   "metadata": {},
   "outputs": [
    {
     "name": "stderr",
     "output_type": "stream",
     "text": [
      "/opt/modules/i12g/anaconda/3-5.0.1/envs/splicing/lib/python3.6/site-packages/mmsplice/mmsplice.py:152: UserWarning: None GT donor\n",
      "  warnings.warn(\"None GT donor\", UserWarning)\n"
     ]
    }
   ],
   "source": [
    "test = next(dliter)"
   ]
  },
  {
   "cell_type": "code",
   "execution_count": 7,
   "metadata": {},
   "outputs": [
    {
     "data": {
      "text/plain": [
       "(32, 10)"
      ]
     },
     "execution_count": 7,
     "metadata": {},
     "output_type": "execute_result"
    }
   ],
   "source": [
    "test['inputs'].shape"
   ]
  },
  {
   "cell_type": "code",
   "execution_count": 8,
   "metadata": {},
   "outputs": [],
   "source": [
    "from model import MMSpliceModel"
   ]
  },
  {
   "cell_type": "code",
   "execution_count": 9,
   "metadata": {},
   "outputs": [],
   "source": [
    "model = MMSpliceModel()"
   ]
  },
  {
   "cell_type": "code",
   "execution_count": 10,
   "metadata": {},
   "outputs": [
    {
     "data": {
      "text/plain": [
       "array([[0.06009096, 0.93990904],\n",
       "       [0.09136162, 0.90863838],\n",
       "       [0.05053489, 0.94946511],\n",
       "       [0.14679561, 0.85320439],\n",
       "       [0.05877607, 0.94122393],\n",
       "       [0.13074305, 0.86925695],\n",
       "       [0.12425364, 0.87574636],\n",
       "       [0.17892947, 0.82107053],\n",
       "       [0.1034257 , 0.8965743 ],\n",
       "       [0.27205472, 0.72794528],\n",
       "       [0.12291161, 0.87708839],\n",
       "       [0.25545762, 0.74454238],\n",
       "       [0.06020152, 0.93979848],\n",
       "       [0.09152488, 0.90847512],\n",
       "       [0.05062927, 0.94937073],\n",
       "       [0.14702471, 0.85297529],\n",
       "       [0.05913185, 0.94086815],\n",
       "       [0.13263622, 0.86736378],\n",
       "       [0.0621184 , 0.9378816 ],\n",
       "       [0.09196763, 0.90803237],\n",
       "       [0.05088545, 0.94911455],\n",
       "       [0.14803448, 0.85196552],\n",
       "       [0.06174651, 0.93825349],\n",
       "       [0.14018599, 0.85981401],\n",
       "       [0.05979569, 0.94020431],\n",
       "       [0.0914297 , 0.9085703 ],\n",
       "       [0.05057422, 0.94942578],\n",
       "       [0.14680786, 0.85319214],\n",
       "       [0.05858208, 0.94141792],\n",
       "       [0.13105485, 0.86894515],\n",
       "       [0.06226435, 0.93773565],\n",
       "       [0.09200089, 0.90799911]])"
      ]
     },
     "execution_count": 10,
     "metadata": {},
     "output_type": "execute_result"
    }
   ],
   "source": [
    "model.predict_on_batch(test['inputs'])"
   ]
  },
  {
   "cell_type": "code",
   "execution_count": null,
   "metadata": {},
   "outputs": [],
   "source": []
  }
 ],
 "metadata": {
  "kernelspec": {
   "display_name": "Python [conda env:splicing]",
   "language": "python",
   "name": "conda-env-splicing-py"
  },
  "language_info": {
   "codemirror_mode": {
    "name": "ipython",
    "version": 3
   },
   "file_extension": ".py",
   "mimetype": "text/x-python",
   "name": "python",
   "nbconvert_exporter": "python",
   "pygments_lexer": "ipython3",
   "version": "3.6.0"
  }
 },
 "nbformat": 4,
 "nbformat_minor": 2
}
