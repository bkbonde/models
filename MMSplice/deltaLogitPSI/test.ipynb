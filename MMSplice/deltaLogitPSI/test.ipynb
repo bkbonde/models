{
 "cells": [
  {
   "cell_type": "code",
   "execution_count": 1,
   "metadata": {},
   "outputs": [],
   "source": [
    "%load_ext autoreload\n",
    "%autoreload 2"
   ]
  },
  {
   "cell_type": "code",
   "execution_count": 2,
   "metadata": {},
   "outputs": [
    {
     "name": "stderr",
     "output_type": "stream",
     "text": [
      "Using TensorFlow backend.\n",
      "/opt/modules/i12g/anaconda/3-5.0.1/envs/splicing/lib/python3.6/site-packages/keras/engine/saving.py:270: UserWarning: No training configuration found in save file: the model was *not* compiled. Compile it manually.\n",
      "  warnings.warn('No training configuration found in save file: '\n"
     ]
    }
   ],
   "source": [
    "from dataloader import SplicingVCFDataloader"
   ]
  },
  {
   "cell_type": "code",
   "execution_count": 3,
   "metadata": {},
   "outputs": [],
   "source": [
    "fasta = \"example_files/hg19.nochr.chr17.fa\"\n",
    "gtf = \"example_files/test.gtf\"\n",
    "vcf = \"example_files/test.vcf.gz\""
   ]
  },
  {
   "cell_type": "code",
   "execution_count": 4,
   "metadata": {},
   "outputs": [],
   "source": [
    "dl = SplicingVCFDataloader(gtf, \n",
    "                          fasta,\n",
    "                          vcf,\n",
    "#                           out_file=\"/tmp/test.pkl\",\n",
    "                           overhang=(100,100),\n",
    "                          split_seq=False)"
   ]
  },
  {
   "cell_type": "code",
   "execution_count": 5,
   "metadata": {},
   "outputs": [],
   "source": [
    "dliter = dl.batch_iter()"
   ]
  },
  {
   "cell_type": "code",
   "execution_count": 6,
   "metadata": {},
   "outputs": [
    {
     "name": "stderr",
     "output_type": "stream",
     "text": [
      "/opt/modules/i12g/anaconda/3-5.0.1/envs/splicing/lib/python3.6/site-packages/mmsplice-0.2.0-py3.6.egg/mmsplice/mmsplice.py:153: UserWarning: None GT donor\n",
      "  warnings.warn(\"None GT donor\", UserWarning)\n"
     ]
    }
   ],
   "source": [
    "test = next(dliter)"
   ]
  },
  {
   "cell_type": "code",
   "execution_count": 7,
   "metadata": {},
   "outputs": [
    {
     "data": {
      "text/plain": [
       "(32, 5)"
      ]
     },
     "execution_count": 7,
     "metadata": {},
     "output_type": "execute_result"
    }
   ],
   "source": [
    "test['inputs'].shape"
   ]
  },
  {
   "cell_type": "code",
   "execution_count": 8,
   "metadata": {},
   "outputs": [],
   "source": [
    "from model import MMSpliceModel"
   ]
  },
  {
   "cell_type": "code",
   "execution_count": 9,
   "metadata": {},
   "outputs": [],
   "source": [
    "model = MMSpliceModel()"
   ]
  },
  {
   "cell_type": "code",
   "execution_count": 10,
   "metadata": {},
   "outputs": [
    {
     "data": {
      "text/plain": [
       "array([ 0.04036984,  0.0064904 ,  0.00185163,  0.00184794,  0.04854489,\n",
       "        0.04488759, -0.0880318 , -0.20207434, -0.20897233, -0.20897966,\n",
       "       -0.11544432, -0.13914434,  0.09885264,  0.01294749,  0.00879355,\n",
       "        0.00878913,  0.07119784,  0.05179631,  0.3252818 ,  0.04130852,\n",
       "        0.0275752 ,  0.02755749,  0.23386267,  0.16972789,  0.05005105,\n",
       "        0.00683576,  0.00474588,  0.00474367,  0.03613915,  0.02637898,\n",
       "        0.34225251,  0.04343382])"
      ]
     },
     "execution_count": 10,
     "metadata": {},
     "output_type": "execute_result"
    }
   ],
   "source": [
    "model.predict_on_batch(test['inputs'])"
   ]
  },
  {
   "cell_type": "code",
   "execution_count": null,
   "metadata": {},
   "outputs": [],
   "source": []
  }
 ],
 "metadata": {
  "kernelspec": {
   "display_name": "Python [conda env:splicing]",
   "language": "python",
   "name": "conda-env-splicing-py"
  },
  "language_info": {
   "codemirror_mode": {
    "name": "ipython",
    "version": 3
   },
   "file_extension": ".py",
   "mimetype": "text/x-python",
   "name": "python",
   "nbconvert_exporter": "python",
   "pygments_lexer": "ipython3",
   "version": "3.6.0"
  }
 },
 "nbformat": 4,
 "nbformat_minor": 2
}
