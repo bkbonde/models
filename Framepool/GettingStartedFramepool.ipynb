{
 "cells": [
  {
   "cell_type": "code",
   "execution_count": 1,
   "id": "touched-upper",
   "metadata": {},
   "outputs": [],
   "source": [
    "import urllib.request\n",
    "import gzip\n",
    "import shutil\n",
    "from subprocess import PIPE, Popen\n",
    "import os"
   ]
  },
  {
   "cell_type": "markdown",
   "id": "designed-youth",
   "metadata": {},
   "source": [
    "## Download TEST data"
   ]
  },
  {
   "cell_type": "code",
   "execution_count": 2,
   "id": "motivated-marijuana",
   "metadata": {},
   "outputs": [],
   "source": [
    "# make ExampleFile directory if it does not exist\n",
    "if not os.path.exists(\"ExampleFiles\"):\n",
    "    os.makedirs(\"ExampleFiles\")"
   ]
  },
  {
   "cell_type": "code",
   "execution_count": 3,
   "id": "religious-federal",
   "metadata": {},
   "outputs": [
    {
     "data": {
      "text/plain": [
       "('ExampleFiles/hg19.gtf.gz', <http.client.HTTPMessage at 0x2aed653574e0>)"
      ]
     },
     "execution_count": 3,
     "metadata": {},
     "output_type": "execute_result"
    }
   ],
   "source": [
    "# Download vcf\n",
    "urllib.request.urlretrieve(\"https://zenodo.org/record/3584238/files/patho.vcf.gz?download=1\", 'ExampleFiles/patho.vcf.gz')\n",
    "# Download vcf tabix\n",
    "urllib.request.urlretrieve(\"https://zenodo.org/record/3584238/files/patho.vcf.gz.tbi?download=1\", 'ExampleFiles/patho.vcf.gz.tbi')\n",
    "# Download GTF\n",
    "urllib.request.urlretrieve(\"https://hgdownload.soe.ucsc.edu/goldenPath/hg19/bigZips/genes/hg19.ensGene.gtf.gz\", 'ExampleFiles/hg19.gtf.gz')"
   ]
  },
  {
   "cell_type": "code",
   "execution_count": 4,
   "id": "contemporary-workstation",
   "metadata": {},
   "outputs": [
    {
     "data": {
      "text/plain": [
       "('ExampleFiles/hg19.fa.gz', <http.client.HTTPMessage at 0x2aed65357898>)"
      ]
     },
     "execution_count": 4,
     "metadata": {},
     "output_type": "execute_result"
    }
   ],
   "source": [
    "# Download gzipped hg19 fasta (warning: 900mb)\n",
    "urllib.request.urlretrieve(\"https://hgdownload.soe.ucsc.edu/goldenPath/hg19/bigZips/hg19.fa.gz\", 'ExampleFiles/hg19.fa.gz')"
   ]
  },
  {
   "cell_type": "code",
   "execution_count": 5,
   "id": "promising-schema",
   "metadata": {},
   "outputs": [
    {
     "data": {
      "text/plain": [
       "(b'', b'')"
      ]
     },
     "execution_count": 5,
     "metadata": {},
     "output_type": "execute_result"
    }
   ],
   "source": [
    "# unzip fasta, make sure that you have gunzip installed\n",
    "p = Popen(\"gunzip ExampleFiles/hg19.fa.gz\", shell=True, stdout=PIPE, stderr=PIPE)\n",
    "p.communicate()"
   ]
  },
  {
   "cell_type": "code",
   "execution_count": 6,
   "id": "polyphonic-fifty",
   "metadata": {},
   "outputs": [],
   "source": [
    "# Path of the vcf file\n",
    "vcf_path = \"ExampleFiles/patho.vcf.gz\"\n",
    "\n",
    "# Path of the fasta file\n",
    "fasta_path = \"ExampleFiles/hg19.fa\"\n",
    "\n",
    "# Path of the gtf file\n",
    "gtf_path = \"ExampleFiles/hg19.gtf.gz\"\n",
    "\n",
    "# How are the 5'UTR called in your gtf\n",
    "feature_type = \"5UTR\"\n",
    "\n",
    "# Output to stora the table\n",
    "output_path = \"ExampleFiles/output.framepool.tsv\""
   ]
  },
  {
   "cell_type": "markdown",
   "id": "nominated-grenada",
   "metadata": {},
   "source": [
    "## Filter GTF file for speed performance (Recommended)"
   ]
  },
  {
   "cell_type": "code",
   "execution_count": 7,
   "id": "visible-malta",
   "metadata": {},
   "outputs": [],
   "source": [
    "import pyranges as pr\n",
    "from cyvcf2 import VCF"
   ]
  },
  {
   "cell_type": "code",
   "execution_count": 8,
   "id": "outdoor-worth",
   "metadata": {},
   "outputs": [],
   "source": [
    "# Import gtf with pyranges\n",
    "gr = pr.read_gtf(gtf_path)"
   ]
  },
  {
   "cell_type": "code",
   "execution_count": 9,
   "id": "sealed-objective",
   "metadata": {},
   "outputs": [],
   "source": [
    "id_set = set()\n",
    "for var in VCF(vcf_path):\n",
    "    chrom = var.CHROM\n",
    "    pos = var.POS\n",
    "    id_set = set(gr[chrom, pos-1:pos].df.gene_id) | id_set # vcf is 1-based, pyranges is not"
   ]
  },
  {
   "cell_type": "code",
   "execution_count": 10,
   "id": "radio-basics",
   "metadata": {},
   "outputs": [],
   "source": [
    "gr_subset = gr[gr.gene_id.isin(id_set)]\n",
    "gr_subset = gr[gr.gene_id.isin(id_set)]\n",
    "gtf_path = \"ExampleFiles/reduced.gtf\" # new reduced gtf file containing only the regions where there is a variant\n",
    "gr_subset.to_gtf(gtf_path)"
   ]
  },
  {
   "cell_type": "markdown",
   "id": "noble-bangladesh",
   "metadata": {},
   "source": [
    "## Run the model"
   ]
  },
  {
   "cell_type": "code",
   "execution_count": 11,
   "id": "faced-hindu",
   "metadata": {},
   "outputs": [],
   "source": [
    "from VariantEffect.dataloader import SingleVariantFramepoolDataloader\n",
    "import kipoi\n",
    "import pyranges as pr\n",
    "from cyvcf2 import VCF\n",
    "from tqdm import tqdm\n",
    "import pandas as pd"
   ]
  },
  {
   "cell_type": "code",
   "execution_count": null,
   "id": "freelance-polls",
   "metadata": {},
   "outputs": [],
   "source": [
    "# Source model directly from directory\n",
    "model = kipoi.get_model(\"../Framepool\", source=\"dir\")"
   ]
  },
  {
   "cell_type": "code",
   "execution_count": 13,
   "id": "oriented-gross",
   "metadata": {},
   "outputs": [],
   "source": [
    "# initialize Loader\n",
    "svfp = SingleVariantFramepoolDataloader(gtf_path, fasta_path, vcf_path, feature_type)"
   ]
  },
  {
   "cell_type": "code",
   "execution_count": 14,
   "id": "legitimate-detroit",
   "metadata": {},
   "outputs": [
    {
     "name": "stderr",
     "output_type": "stream",
     "text": [
      "22it [00:01, 13.98it/s]\n"
     ]
    }
   ],
   "source": [
    "predictions = []\n",
    "for variant_obj in tqdm(svfp):\n",
    "    pr = model.predict_on_batch(variant_obj[\"inputs\"]) # make prediction\n",
    "    \n",
    "    \n",
    "    var = variant_obj[\"metadata\"][\"variant\"]\n",
    "    \n",
    "    scores = var[\"chrom\"], var[\"pos\"], \\\n",
    "            var[\"ref\"], var[\"alt\"], \\\n",
    "            pr[\"mrl_fold_change\"][0], pr[\"shift_1\"][0], pr[\"shift_2\"][0], \\\n",
    "            variant_obj[\"metadata\"][\"transcript_id\"]\n",
    "    \n",
    "    \n",
    "    predictions.append(scores)"
   ]
  },
  {
   "cell_type": "code",
   "execution_count": 15,
   "id": "sonic-dispute",
   "metadata": {},
   "outputs": [
    {
     "data": {
      "text/html": [
       "<div>\n",
       "<style scoped>\n",
       "    .dataframe tbody tr th:only-of-type {\n",
       "        vertical-align: middle;\n",
       "    }\n",
       "\n",
       "    .dataframe tbody tr th {\n",
       "        vertical-align: top;\n",
       "    }\n",
       "\n",
       "    .dataframe thead th {\n",
       "        text-align: right;\n",
       "    }\n",
       "</style>\n",
       "<table border=\"1\" class=\"dataframe\">\n",
       "  <thead>\n",
       "    <tr style=\"text-align: right;\">\n",
       "      <th></th>\n",
       "      <th>chrom</th>\n",
       "      <th>start</th>\n",
       "      <th>ref</th>\n",
       "      <th>alt</th>\n",
       "      <th>mrl_fold_change</th>\n",
       "      <th>shift_1</th>\n",
       "      <th>shift_2</th>\n",
       "      <th>transcript_id</th>\n",
       "    </tr>\n",
       "  </thead>\n",
       "  <tbody>\n",
       "    <tr>\n",
       "      <th>0</th>\n",
       "      <td>chr1</td>\n",
       "      <td>93297626</td>\n",
       "      <td>C</td>\n",
       "      <td>A</td>\n",
       "      <td>-0.799757</td>\n",
       "      <td>-0.670084</td>\n",
       "      <td>0.025305</td>\n",
       "      <td>ENST00000370321</td>\n",
       "    </tr>\n",
       "    <tr>\n",
       "      <th>1</th>\n",
       "      <td>chr1</td>\n",
       "      <td>93297626</td>\n",
       "      <td>C</td>\n",
       "      <td>A</td>\n",
       "      <td>-0.107161</td>\n",
       "      <td>-0.189486</td>\n",
       "      <td>-0.054052</td>\n",
       "      <td>ENST00000470843</td>\n",
       "    </tr>\n",
       "    <tr>\n",
       "      <th>2</th>\n",
       "      <td>chr1</td>\n",
       "      <td>209975361</td>\n",
       "      <td>T</td>\n",
       "      <td>A</td>\n",
       "      <td>-1.068000</td>\n",
       "      <td>-0.861996</td>\n",
       "      <td>0.055964</td>\n",
       "      <td>ENST00000367021</td>\n",
       "    </tr>\n",
       "    <tr>\n",
       "      <th>3</th>\n",
       "      <td>chr1</td>\n",
       "      <td>209975361</td>\n",
       "      <td>T</td>\n",
       "      <td>A</td>\n",
       "      <td>-0.675417</td>\n",
       "      <td>-0.531750</td>\n",
       "      <td>-0.228016</td>\n",
       "      <td>ENST00000456314</td>\n",
       "    </tr>\n",
       "    <tr>\n",
       "      <th>4</th>\n",
       "      <td>chr11</td>\n",
       "      <td>5248280</td>\n",
       "      <td>C</td>\n",
       "      <td>T</td>\n",
       "      <td>-0.828528</td>\n",
       "      <td>0.006580</td>\n",
       "      <td>-0.919977</td>\n",
       "      <td>ENST00000335295</td>\n",
       "    </tr>\n",
       "    <tr>\n",
       "      <th>5</th>\n",
       "      <td>chr17</td>\n",
       "      <td>66508599</td>\n",
       "      <td>G</td>\n",
       "      <td>A</td>\n",
       "      <td>-1.025860</td>\n",
       "      <td>0.015113</td>\n",
       "      <td>-1.124092</td>\n",
       "      <td>ENST00000392711</td>\n",
       "    </tr>\n",
       "    <tr>\n",
       "      <th>6</th>\n",
       "      <td>chr17</td>\n",
       "      <td>66508599</td>\n",
       "      <td>G</td>\n",
       "      <td>A</td>\n",
       "      <td>-1.088306</td>\n",
       "      <td>-0.048745</td>\n",
       "      <td>-1.154857</td>\n",
       "      <td>ENST00000585427</td>\n",
       "    </tr>\n",
       "    <tr>\n",
       "      <th>7</th>\n",
       "      <td>chr17</td>\n",
       "      <td>66508599</td>\n",
       "      <td>G</td>\n",
       "      <td>A</td>\n",
       "      <td>-1.141302</td>\n",
       "      <td>-0.975095</td>\n",
       "      <td>0.025098</td>\n",
       "      <td>ENST00000585608</td>\n",
       "    </tr>\n",
       "    <tr>\n",
       "      <th>8</th>\n",
       "      <td>chr17</td>\n",
       "      <td>66508599</td>\n",
       "      <td>G</td>\n",
       "      <td>A</td>\n",
       "      <td>-1.129289</td>\n",
       "      <td>-0.975691</td>\n",
       "      <td>0.034666</td>\n",
       "      <td>ENST00000589228</td>\n",
       "    </tr>\n",
       "    <tr>\n",
       "      <th>9</th>\n",
       "      <td>chr17</td>\n",
       "      <td>66508599</td>\n",
       "      <td>G</td>\n",
       "      <td>A</td>\n",
       "      <td>-0.142159</td>\n",
       "      <td>-0.277853</td>\n",
       "      <td>-0.063634</td>\n",
       "      <td>ENST00000536854</td>\n",
       "    </tr>\n",
       "    <tr>\n",
       "      <th>10</th>\n",
       "      <td>chr17</td>\n",
       "      <td>66508599</td>\n",
       "      <td>G</td>\n",
       "      <td>A</td>\n",
       "      <td>-1.244144</td>\n",
       "      <td>-1.060489</td>\n",
       "      <td>-0.135118</td>\n",
       "      <td>ENST00000392710</td>\n",
       "    </tr>\n",
       "    <tr>\n",
       "      <th>11</th>\n",
       "      <td>chr2</td>\n",
       "      <td>96931137</td>\n",
       "      <td>G</td>\n",
       "      <td>A</td>\n",
       "      <td>-1.285574</td>\n",
       "      <td>-1.012779</td>\n",
       "      <td>0.028387</td>\n",
       "      <td>ENST00000258439</td>\n",
       "    </tr>\n",
       "    <tr>\n",
       "      <th>12</th>\n",
       "      <td>chr2</td>\n",
       "      <td>96931137</td>\n",
       "      <td>G</td>\n",
       "      <td>A</td>\n",
       "      <td>-1.029097</td>\n",
       "      <td>-0.896816</td>\n",
       "      <td>-0.570132</td>\n",
       "      <td>ENST00000432959</td>\n",
       "    </tr>\n",
       "    <tr>\n",
       "      <th>13</th>\n",
       "      <td>chr3</td>\n",
       "      <td>98312358</td>\n",
       "      <td>C</td>\n",
       "      <td>T</td>\n",
       "      <td>-1.006343</td>\n",
       "      <td>-0.834495</td>\n",
       "      <td>0.085337</td>\n",
       "      <td>ENST00000264193</td>\n",
       "    </tr>\n",
       "    <tr>\n",
       "      <th>14</th>\n",
       "      <td>chr3</td>\n",
       "      <td>98312358</td>\n",
       "      <td>C</td>\n",
       "      <td>T</td>\n",
       "      <td>-0.989882</td>\n",
       "      <td>-0.828618</td>\n",
       "      <td>0.068531</td>\n",
       "      <td>ENST00000513674</td>\n",
       "    </tr>\n",
       "    <tr>\n",
       "      <th>15</th>\n",
       "      <td>chr5</td>\n",
       "      <td>147211193</td>\n",
       "      <td>G</td>\n",
       "      <td>A</td>\n",
       "      <td>-0.361473</td>\n",
       "      <td>-0.218929</td>\n",
       "      <td>-0.283831</td>\n",
       "      <td>ENST00000296695</td>\n",
       "    </tr>\n",
       "    <tr>\n",
       "      <th>16</th>\n",
       "      <td>chr5</td>\n",
       "      <td>147211193</td>\n",
       "      <td>G</td>\n",
       "      <td>A</td>\n",
       "      <td>-0.818441</td>\n",
       "      <td>-0.669264</td>\n",
       "      <td>-0.730060</td>\n",
       "      <td>ENST00000510027</td>\n",
       "    </tr>\n",
       "    <tr>\n",
       "      <th>17</th>\n",
       "      <td>chr7</td>\n",
       "      <td>19157207</td>\n",
       "      <td>G</td>\n",
       "      <td>T</td>\n",
       "      <td>-0.790122</td>\n",
       "      <td>-0.396197</td>\n",
       "      <td>-0.773752</td>\n",
       "      <td>ENST00000242261</td>\n",
       "    </tr>\n",
       "    <tr>\n",
       "      <th>18</th>\n",
       "      <td>chr7</td>\n",
       "      <td>19157225</td>\n",
       "      <td>C</td>\n",
       "      <td>A</td>\n",
       "      <td>0.000256</td>\n",
       "      <td>0.000235</td>\n",
       "      <td>0.000490</td>\n",
       "      <td>ENST00000242261</td>\n",
       "    </tr>\n",
       "    <tr>\n",
       "      <th>19</th>\n",
       "      <td>chr9</td>\n",
       "      <td>21974860</td>\n",
       "      <td>C</td>\n",
       "      <td>A</td>\n",
       "      <td>-0.910533</td>\n",
       "      <td>-0.525239</td>\n",
       "      <td>-1.060424</td>\n",
       "      <td>ENST00000304494</td>\n",
       "    </tr>\n",
       "    <tr>\n",
       "      <th>20</th>\n",
       "      <td>chr9</td>\n",
       "      <td>21974860</td>\n",
       "      <td>C</td>\n",
       "      <td>A</td>\n",
       "      <td>-1.020021</td>\n",
       "      <td>-0.026780</td>\n",
       "      <td>-1.134101</td>\n",
       "      <td>ENST00000498124</td>\n",
       "    </tr>\n",
       "    <tr>\n",
       "      <th>21</th>\n",
       "      <td>chr9</td>\n",
       "      <td>21974860</td>\n",
       "      <td>C</td>\n",
       "      <td>A</td>\n",
       "      <td>-0.982123</td>\n",
       "      <td>-0.552211</td>\n",
       "      <td>-1.042605</td>\n",
       "      <td>ENST00000446177</td>\n",
       "    </tr>\n",
       "  </tbody>\n",
       "</table>\n",
       "</div>"
      ],
      "text/plain": [
       "    chrom      start ref alt  mrl_fold_change   shift_1   shift_2  \\\n",
       "0    chr1   93297626   C   A        -0.799757 -0.670084  0.025305   \n",
       "1    chr1   93297626   C   A        -0.107161 -0.189486 -0.054052   \n",
       "2    chr1  209975361   T   A        -1.068000 -0.861996  0.055964   \n",
       "3    chr1  209975361   T   A        -0.675417 -0.531750 -0.228016   \n",
       "4   chr11    5248280   C   T        -0.828528  0.006580 -0.919977   \n",
       "5   chr17   66508599   G   A        -1.025860  0.015113 -1.124092   \n",
       "6   chr17   66508599   G   A        -1.088306 -0.048745 -1.154857   \n",
       "7   chr17   66508599   G   A        -1.141302 -0.975095  0.025098   \n",
       "8   chr17   66508599   G   A        -1.129289 -0.975691  0.034666   \n",
       "9   chr17   66508599   G   A        -0.142159 -0.277853 -0.063634   \n",
       "10  chr17   66508599   G   A        -1.244144 -1.060489 -0.135118   \n",
       "11   chr2   96931137   G   A        -1.285574 -1.012779  0.028387   \n",
       "12   chr2   96931137   G   A        -1.029097 -0.896816 -0.570132   \n",
       "13   chr3   98312358   C   T        -1.006343 -0.834495  0.085337   \n",
       "14   chr3   98312358   C   T        -0.989882 -0.828618  0.068531   \n",
       "15   chr5  147211193   G   A        -0.361473 -0.218929 -0.283831   \n",
       "16   chr5  147211193   G   A        -0.818441 -0.669264 -0.730060   \n",
       "17   chr7   19157207   G   T        -0.790122 -0.396197 -0.773752   \n",
       "18   chr7   19157225   C   A         0.000256  0.000235  0.000490   \n",
       "19   chr9   21974860   C   A        -0.910533 -0.525239 -1.060424   \n",
       "20   chr9   21974860   C   A        -1.020021 -0.026780 -1.134101   \n",
       "21   chr9   21974860   C   A        -0.982123 -0.552211 -1.042605   \n",
       "\n",
       "      transcript_id  \n",
       "0   ENST00000370321  \n",
       "1   ENST00000470843  \n",
       "2   ENST00000367021  \n",
       "3   ENST00000456314  \n",
       "4   ENST00000335295  \n",
       "5   ENST00000392711  \n",
       "6   ENST00000585427  \n",
       "7   ENST00000585608  \n",
       "8   ENST00000589228  \n",
       "9   ENST00000536854  \n",
       "10  ENST00000392710  \n",
       "11  ENST00000258439  \n",
       "12  ENST00000432959  \n",
       "13  ENST00000264193  \n",
       "14  ENST00000513674  \n",
       "15  ENST00000296695  \n",
       "16  ENST00000510027  \n",
       "17  ENST00000242261  \n",
       "18  ENST00000242261  \n",
       "19  ENST00000304494  \n",
       "20  ENST00000498124  \n",
       "21  ENST00000446177  "
      ]
     },
     "execution_count": 15,
     "metadata": {},
     "output_type": "execute_result"
    }
   ],
   "source": [
    "predictions_df = pd.DataFrame(predictions, columns=[\"chrom\", \"start\", \"ref\", \"alt\", \"mrl_fold_change\", \"shift_1\", \"shift_2\", \"transcript_id\"])\n",
    "predictions_df"
   ]
  },
  {
   "cell_type": "code",
   "execution_count": 16,
   "id": "amber-margin",
   "metadata": {},
   "outputs": [],
   "source": [
    "# save scores as a tab table\n",
    "predictions_df.to_csv(output_path, sep=\"\\t\", index=False)"
   ]
  },
  {
   "cell_type": "code",
   "execution_count": null,
   "id": "careful-pepper",
   "metadata": {},
   "outputs": [],
   "source": []
  }
 ],
 "metadata": {
  "kernelspec": {
   "display_name": "Python [conda env:anaconda-kipoi-Framepool2]",
   "language": "python",
   "name": "conda-env-anaconda-kipoi-Framepool2-py"
  },
  "language_info": {
   "codemirror_mode": {
    "name": "ipython",
    "version": 3
   },
   "file_extension": ".py",
   "mimetype": "text/x-python",
   "name": "python",
   "nbconvert_exporter": "python",
   "pygments_lexer": "ipython3",
   "version": "3.6.7"
  }
 },
 "nbformat": 4,
 "nbformat_minor": 5
}
